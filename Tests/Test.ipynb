{
 "cells": [
  {
   "cell_type": "code",
   "execution_count": 26,
   "metadata": {},
   "outputs": [],
   "source": [
    "import matplotlib.pyplot as plt\n",
    "import io\n",
    "import numpy as np\n",
    "from PIL import Image, ImageChops\n",
    "white = (255, 255, 255, 255)\n",
    "\n",
    "import matplotlib\n",
    "matplotlib.rcParams['mathtext.fontset'] = 'stix'\n",
    "matplotlib.rcParams['font.family'] = 'STIXGeneral'\n",
    "\n",
    "def latex_to_img(tex):\n",
    "    buf = io.BytesIO()\n",
    "    plt.rc('text', usetex=False)\n",
    "    plt.axis('off')\n",
    "    plt.text(0.05, 0.5, f\"${tex}$\", size=40)\n",
    "    plt.savefig(buf, format='png', bbox_inches = \"tight\")\n",
    "    plt.close()\n",
    "\n",
    "    im = Image.open(buf)\n",
    "    bg = Image.new(im.mode, im.size, white)\n",
    "    diff = ImageChops.difference(im, bg)\n",
    "    diff = ImageChops.add(diff, diff, 2.0, -100)\n",
    "    bbox = diff.getbbox()\n",
    "    return im.crop(bbox)\n",
    "\n",
    "texified = np.array(latex_to_img(r'i \\hbar \\frac { \\partial } { \\partial t } \\psi \\rangle = \\hat { H } | \\psi \\rangle'))\n"
   ]
  },
  {
   "cell_type": "code",
   "execution_count": 31,
   "metadata": {},
   "outputs": [],
   "source": [
    "# Find the bounding box of the binary image.\n",
    "rows = np.any(~texified, axis=1)\n",
    "cols = np.any(~texified, axis=0)\n",
    "ymin, ymax = np.where(rows)[0][[0, -1]]\n",
    "xmin, xmax = np.where(cols)[0][[0, -1]]\n",
    "\n",
    "# Crop the original image using the bounding box coordinates.\n",
    "foreground = texified[ymin:ymax, xmin:xmax]"
   ]
  },
  {
   "cell_type": "code",
   "execution_count": 45,
   "metadata": {},
   "outputs": [
    {
     "ename": "ValueError",
     "evalue": "ndarray is not C-contiguous",
     "output_type": "error",
     "traceback": [
      "\u001b[1;31m---------------------------------------------------------------------------\u001b[0m",
      "\u001b[1;31mValueError\u001b[0m                                Traceback (most recent call last)",
      "\u001b[1;32mc:\\Users\\aniru\\OneDrive\\Documents\\Anirudh\\Junior-Fall\\CIS5810\\Diginotes\\Tests\\Test.ipynb Cell 3\u001b[0m in \u001b[0;36m<cell line: 1>\u001b[1;34m()\u001b[0m\n\u001b[1;32m----> <a href='vscode-notebook-cell:/c%3A/Users/aniru/OneDrive/Documents/Anirudh/Junior-Fall/CIS5810/Diginotes/Tests/Test.ipynb#X20sZmlsZQ%3D%3D?line=0'>1</a>\u001b[0m plt\u001b[39m.\u001b[39;49mimsave(\u001b[39m\"\u001b[39;49m\u001b[39mforeground.png\u001b[39;49m\u001b[39m\"\u001b[39;49m, foreground)\n",
      "File \u001b[1;32mc:\\Users\\aniru\\anaconda3\\envs\\cis5810\\lib\\site-packages\\matplotlib\\pyplot.py:2165\u001b[0m, in \u001b[0;36mimsave\u001b[1;34m(fname, arr, **kwargs)\u001b[0m\n\u001b[0;32m   2163\u001b[0m \u001b[39m@_copy_docstring_and_deprecators\u001b[39m(matplotlib\u001b[39m.\u001b[39mimage\u001b[39m.\u001b[39mimsave)\n\u001b[0;32m   2164\u001b[0m \u001b[39mdef\u001b[39;00m \u001b[39mimsave\u001b[39m(fname, arr, \u001b[39m*\u001b[39m\u001b[39m*\u001b[39mkwargs):\n\u001b[1;32m-> 2165\u001b[0m     \u001b[39mreturn\u001b[39;00m matplotlib\u001b[39m.\u001b[39mimage\u001b[39m.\u001b[39mimsave(fname, arr, \u001b[39m*\u001b[39m\u001b[39m*\u001b[39mkwargs)\n",
      "File \u001b[1;32mc:\\Users\\aniru\\anaconda3\\envs\\cis5810\\lib\\site-packages\\matplotlib\\image.py:1645\u001b[0m, in \u001b[0;36mimsave\u001b[1;34m(fname, arr, vmin, vmax, cmap, format, origin, dpi, metadata, pil_kwargs)\u001b[0m\n\u001b[0;32m   1643\u001b[0m     pil_kwargs \u001b[39m=\u001b[39m {}\n\u001b[0;32m   1644\u001b[0m pil_shape \u001b[39m=\u001b[39m (rgba\u001b[39m.\u001b[39mshape[\u001b[39m1\u001b[39m], rgba\u001b[39m.\u001b[39mshape[\u001b[39m0\u001b[39m])\n\u001b[1;32m-> 1645\u001b[0m image \u001b[39m=\u001b[39m PIL\u001b[39m.\u001b[39;49mImage\u001b[39m.\u001b[39;49mfrombuffer(\n\u001b[0;32m   1646\u001b[0m     \u001b[39m\"\u001b[39;49m\u001b[39mRGBA\u001b[39;49m\u001b[39m\"\u001b[39;49m, pil_shape, rgba, \u001b[39m\"\u001b[39;49m\u001b[39mraw\u001b[39;49m\u001b[39m\"\u001b[39;49m, \u001b[39m\"\u001b[39;49m\u001b[39mRGBA\u001b[39;49m\u001b[39m\"\u001b[39;49m, \u001b[39m0\u001b[39;49m, \u001b[39m1\u001b[39;49m)\n\u001b[0;32m   1647\u001b[0m \u001b[39mif\u001b[39;00m \u001b[39mformat\u001b[39m \u001b[39m==\u001b[39m \u001b[39m\"\u001b[39m\u001b[39mpng\u001b[39m\u001b[39m\"\u001b[39m:\n\u001b[0;32m   1648\u001b[0m     \u001b[39m# Only use the metadata kwarg if pnginfo is not set, because the\u001b[39;00m\n\u001b[0;32m   1649\u001b[0m     \u001b[39m# semantics of duplicate keys in pnginfo is unclear.\u001b[39;00m\n\u001b[0;32m   1650\u001b[0m     \u001b[39mif\u001b[39;00m \u001b[39m\"\u001b[39m\u001b[39mpnginfo\u001b[39m\u001b[39m\"\u001b[39m \u001b[39min\u001b[39;00m pil_kwargs:\n",
      "File \u001b[1;32mc:\\Users\\aniru\\anaconda3\\envs\\cis5810\\lib\\site-packages\\PIL\\Image.py:2932\u001b[0m, in \u001b[0;36mfrombuffer\u001b[1;34m(mode, size, data, decoder_name, *args)\u001b[0m\n\u001b[0;32m   2930\u001b[0m \u001b[39mif\u001b[39;00m args[\u001b[39m0\u001b[39m] \u001b[39min\u001b[39;00m _MAPMODES:\n\u001b[0;32m   2931\u001b[0m     im \u001b[39m=\u001b[39m new(mode, (\u001b[39m1\u001b[39m, \u001b[39m1\u001b[39m))\n\u001b[1;32m-> 2932\u001b[0m     im \u001b[39m=\u001b[39m im\u001b[39m.\u001b[39m_new(core\u001b[39m.\u001b[39;49mmap_buffer(data, size, decoder_name, \u001b[39m0\u001b[39;49m, args))\n\u001b[0;32m   2933\u001b[0m     \u001b[39mif\u001b[39;00m mode \u001b[39m==\u001b[39m \u001b[39m\"\u001b[39m\u001b[39mP\u001b[39m\u001b[39m\"\u001b[39m:\n\u001b[0;32m   2934\u001b[0m         \u001b[39mfrom\u001b[39;00m \u001b[39m.\u001b[39;00m \u001b[39mimport\u001b[39;00m ImagePalette\n",
      "\u001b[1;31mValueError\u001b[0m: ndarray is not C-contiguous"
     ]
    }
   ],
   "source": []
  },
  {
   "cell_type": "code",
   "execution_count": null,
   "metadata": {},
   "outputs": [],
   "source": []
  }
 ],
 "metadata": {
  "kernelspec": {
   "display_name": "Python 3.9.13 ('cis5810')",
   "language": "python",
   "name": "python3"
  },
  "language_info": {
   "codemirror_mode": {
    "name": "ipython",
    "version": 3
   },
   "file_extension": ".py",
   "mimetype": "text/x-python",
   "name": "python",
   "nbconvert_exporter": "python",
   "pygments_lexer": "ipython3",
   "version": "3.9.13"
  },
  "orig_nbformat": 4,
  "vscode": {
   "interpreter": {
    "hash": "1115d9aa143ecabbf634d9b6aa5e7b699d6fc05947cbc835af1b666ca68d9d7c"
   }
  }
 },
 "nbformat": 4,
 "nbformat_minor": 2
}
